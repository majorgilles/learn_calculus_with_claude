{
 "cells": [
  {
   "cell_type": "markdown",
   "metadata": {},
   "source": [
    "# Limits: The Foundation of Calculus\n",
    "\n",
    "Great work on understanding functions! Now we'll explore limits, which form the foundation of calculus."
   ]
  },
  {
   "cell_type": "code",
   "metadata": {},
   "outputs": [],
   "source": "# Setting up our environment\nimport numpy as np\nimport matplotlib.pyplot as plt\nimport sympy as sp  # Symbolic mathematics library\n\n%matplotlib inline\nplt.style.use(\"seaborn-v0_8\")"
  },
  {
   "cell_type": "markdown",
   "metadata": {},
   "source": [
    "## What is a Limit?\n",
    "\n",
    "A limit describes the value a function approaches as the input approaches a particular value. We write:\n",
    "\n",
    "$$\\lim_{x \\to a} f(x) = L$$\n",
    "\n",
    "This means: \"as x gets closer and closer to a, the function f(x) gets closer and closer to L.\""
   ]
  },
  {
   "cell_type": "markdown",
   "metadata": {},
   "source": [
    "## Why Limits Matter\n",
    "\n",
    "Limits allow us to:\n",
    "- Define derivatives (which we'll explore soon)\n",
    "- Analyze function behavior at points where the function isn't defined\n",
    "- Understand continuity of functions"
   ]
  },
  {
   "cell_type": "markdown",
   "metadata": {},
   "source": [
    "## Understanding Limits Simply\n",
    "\n",
    "When we write $\\lim_{x \\to a} f(x) = L$, we're asking:\n",
    "\"What value does f(x) get very close to when x gets very close to a?\"\n",
    "\n",
    "### The Direct Substitution Method\n",
    "\n",
    "For most well-behaved functions, finding a limit is straightforward:\n",
    "1. Take the value that x is approaching (let's call it a)\n",
    "2. Plug this value directly into the function f(x)\n",
    "3. The result is your limit\n",
    "\n",
    "This works because many functions are \"continuous\" - which just means there are no sudden jumps, gaps, or breaks in their graphs."
   ]
  },
  {
   "cell_type": "code",
   "metadata": {},
   "outputs": [],
   "source": "# Let's create a function to visualize how function values approach a limit\ndef visualize_limit(f: callable, a: float, x_range: list = None, title: str = None) -> None:\n    \"\"\"Visualize how a function approaches a limit.\n    \n    Args:\n        f: The function to visualize\n        a: The x-value where we're evaluating the limit\n        x_range: Optional range for x-axis [min, max]\n        title: Optional plot title\n        \n    Returns:\n        None (displays a plot)\n    \"\"\"\n    if x_range is None:\n        x_range = [a-2, a+2]\n        \n    # Create x values, carefully avoiding the limit point if needed\n    x_left = np.linspace(x_range[0], a-0.0001, 1000)\n    x_right = np.linspace(a+0.0001, x_range[1], 1000)\n    \n    # Calculate function values\n    try:\n        y_left = f(x_left)\n        y_right = f(x_right)\n        y_at_a = f(a)  # This might fail if f is not defined at a\n        limit_exists_at_a = True\n    except:\n        limit_exists_at_a = False\n    \n    # Create the plot\n    plt.figure(figsize=(10, 6))\n    \n    # Plot the function\n    plt.plot(x_left, f(x_left), \"b-\")\n    plt.plot(x_right, f(x_right), \"b-\")\n    \n    # Mark the limit point\n    if limit_exists_at_a:\n        plt.plot(a, y_at_a, \"ro\", markersize=8, label=f\"f({a}) = {y_at_a:.4f}\")\n    \n    # Add vertical line at x=a\n    plt.axvline(x=a, color=\"gray\", linestyle=\"--\", alpha=0.7)\n    \n    plt.grid(True)\n    plt.title(title if title else f\"Limit of f(x) as x approaches {a}\")\n    plt.xlabel(\"x\")\n    plt.ylabel(\"f(x)\")\n    plt.legend()\n    plt.show()"
  },
  {
   "cell_type": "markdown",
   "metadata": {},
   "source": [
    "### Example with Numbers\n",
    "\n",
    "Consider $f(x) = x^2$ and we want $\\lim_{x \\to 3} x^2$\n",
    "\n",
    "If we use direct substitution:\n",
    "- Plug in x = 3 into $x^2$\n",
    "- Get $3^2 = 9$\n",
    "- Therefore, $\\lim_{x \\to 3} x^2 = 9$\n",
    "\n",
    "You can verify this by calculating values very close to 3:\n",
    "- When x = 2.9, f(x) = 8.41\n",
    "- When x = 2.99, f(x) = 8.94\n",
    "- When x = 2.999, f(x) = 8.994\n",
    "- When x = 3.001, f(x) = 9.006\n",
    "- When x = 3.01, f(x) = 9.06\n",
    "- When x = 3.1, f(x) = 9.61\n",
    "\n",
    "Notice how the function values get closer and closer to 9 as x gets closer to 3."
   ]
  },
  {
   "cell_type": "code",
   "metadata": {},
   "outputs": [],
   "source": "# Let's demonstrate this limit numerically\ndef f(x: float) -> float:\n    \"\"\"Calculate x squared.\n    \n    Args:\n        x: The input value\n        \n    Returns:\n        The square of x\n    \"\"\"\n    return x**2\n\n# Create a table of values approaching x = 3 from both sides\nx_values = [2.9, 2.99, 2.999, 2.9999, 3, 3.0001, 3.001, 3.01, 3.1]\nf_values = [f(x) for x in x_values]\n\n# Print the table\nprint(\"   x      |    f(x)   \")\nprint(\"-\"*23)\nfor x, y in zip(x_values, f_values):\n    print(f\"{x:^10} | {y:^10.6f}\")\n\n# Visualize the limit\nvisualize_limit(f, 3, title=r\"$\\lim_{x \\to 3} x^2 = 9$\")"
  },
  {
   "cell_type": "markdown",
   "metadata": {},
   "source": [
    "### When Direct Substitution Doesn't Work\n",
    "\n",
    "Direct substitution doesn't work when:\n",
    "1. Plugging in the value gives $\\frac{0}{0}$, $\\frac{\\infty}{\\infty}$, or other undefined results\n",
    "2. The function has a discontinuity (jump or gap) at that point\n",
    "\n",
    "For these cases, we need other techniques like factoring, rationalizing, or approaching from both sides."
   ]
  },
  {
   "cell_type": "code",
   "metadata": {},
   "outputs": [],
   "source": "# An example where direct substitution doesn't work\ndef g(x: float) -> float:\n    \"\"\"Calculate (x^3 - 1)/(x - 1).\n    \n    Args:\n        x: The input value (must not be 1)\n        \n    Returns:\n        The result of (x^3 - 1)/(x - 1) or None if x=1\n    \"\"\"\n    return (x**3 - 1)/(x - 1) if x != 1 else None  # The function is undefined at x=1\n\n# Let's approach x = 1 from both sides\nx_values = [0.9, 0.99, 0.999, 0.9999, 'x=1', 1.0001, 1.001, 1.01, 1.1]\ng_values = []\n\nfor x in x_values:\n    if x == 'x=1':\n        g_values.append('undefined')\n    else:\n        g_values.append(g(x))\n\n# Print the table\nprint(\"   x      |    g(x)   \")\nprint(\"-\"*23)\nfor x, y in zip(x_values, g_values):\n    if isinstance(y, str):\n        print(f\"{x:^10} | {y:^10}\")\n    else:\n        print(f\"{x:^10} | {y:^10.6f}\")\n\n# But if we factor the numerator, we can find the limit\ndef g_factored(x: float) -> float:\n    \"\"\"Calculate the factored form of (x^3-1)/(x-1), which is x^2 + x + 1.\n    \n    Args:\n        x: The input value\n        \n    Returns:\n        x^2 + x + 1, which is equivalent to (x^3-1)/(x-1) when x≠1\n    \"\"\"\n    if x != 1:\n        return x**2 + x + 1  # This is equivalent to (x^3-1)/(x-1) when x≠1\n    else:\n        return 3  # The actual limit value\n\n# Visualize the limit\nvisualize_limit(g_factored, 1, title=r\"$\\lim_{x \\to 1} \\frac{x^3-1}{x-1} = 3$\")"
  },
  {
   "cell_type": "markdown",
   "metadata": {},
   "source": [
    "## More Examples of Limits\n",
    "\n",
    "1. $\\lim_{x \\to 2} x^2 = 4$\n",
    "   As x gets closer to 2, $x^2$ gets closer to 4.\n",
    "\n",
    "2. $\\lim_{x \\to 0} \\frac{\\sin x}{x} = 1$\n",
    "   This is a special limit we'll explore next."
   ]
  },
  {
   "cell_type": "code",
   "metadata": {},
   "outputs": [],
   "source": "# Let's examine the special limit lim(x→0) sin(x)/x = 1\ndef h(x: float) -> float:\n    \"\"\"Calculate sin(x)/x, which has a special limit as x approaches 0.\n    \n    Args:\n        x: The input value (can be any number including 0)\n        \n    Returns:\n        sin(x)/x if x≠0, or 1 if x=0 (the limit value)\n    \"\"\"\n    # Need to handle x=0 case specially since direct computation would give 0/0\n    return np.sin(x)/x if x != 0 else 1  # We're putting 1 here because that's the limit value\n\n# Create a table of values approaching x = 0\nx_values = [-0.5, -0.1, -0.01, -0.001, 0, 0.001, 0.01, 0.1, 0.5]\nh_values = [h(x) for x in x_values]\n\n# Print the table\nprint(\"   x      |  sin(x)/x  \")\nprint(\"-\"*25)\nfor x, y in zip(x_values, h_values):\n    print(f\"{x:^10} | {y:^10.6f}\")\n\n# Visualize the limit\nvisualize_limit(h, 0, [-1.5, 1.5], title=r\"$\\lim_{x \\to 0} \\frac{\\sin x}{x} = 1$\")"
  },
  {
   "cell_type": "markdown",
   "metadata": {},
   "source": [
    "## Exercise 2: Finding Limits\n",
    "\n",
    "For each function, find the limit (if it exists):\n",
    "\n",
    "1. $\\lim_{x \\to 3} (x^2 - 4)$\n",
    "2. $\\lim_{x \\to 1} \\frac{x^3 - 1}{x - 1}$\n",
    "3. $\\lim_{x \\to 0} \\frac{x + 2}{x^2 + 4}$\n",
    "4. $\\lim_{x \\to 2} \\frac{|x - 2|}{x - 2}$\n",
    "5. $\\lim_{x \\to 0} \\frac{\\sin(x)}{x}$\n",
    "\n",
    "For any challenging ones, try making a table of values as x approaches the target value from both sides."
   ]
  },
  {
   "cell_type": "code",
   "execution_count": null,
   "metadata": {},
   "outputs": [],
   "source": [
    "# Let's create functions for each exercise and try to evaluate them\n",
    "\n",
    "# Function 1: f1(x) = x^2 - 4\n",
    "def f1(x):\n",
    "    return x**2 - 4\n",
    "\n",
    "# Function 2: f2(x) = (x^3 - 1)/(x - 1)\n",
    "def f2(x):\n",
    "    if x != 1:\n",
    "        return (x**3 - 1)/(x - 1)\n",
    "    else:\n",
    "        # This is where we would put the limit value if we knew it\n",
    "        return None\n",
    "\n",
    "# Function 3: f3(x) = (x + 2)/(x^2 + 4)\n",
    "def f3(x):\n",
    "    return (x + 2)/(x**2 + 4)\n",
    "\n",
    "# Function 4: f4(x) = |x - 2|/(x - 2)\n",
    "def f4(x):\n",
    "    if x != 2:\n",
    "        return abs(x - 2)/(x - 2)\n",
    "    else:\n",
    "        return None  # Undefined at x = 2\n",
    "\n",
    "# Function 5: f5(x) = sin(x)/x\n",
    "def f5(x):\n",
    "    if x != 0:\n",
    "        return np.sin(x)/x\n",
    "    else:\n",
    "        return None  # We don't yet know the limit value\n",
    "\n",
    "# Let's try to evaluate them at different points to see the behavior\n",
    "functions = [f1, f2, f3, f4, f5]\n",
    "targets = [3, 1, 0, 2, 0]  # The points we're approaching\n",
    "\n",
    "for i, (f, target) in enumerate(zip(functions, targets), 1):\n",
    "    print(f\"\\nFunction {i}:\")\n",
    "    # Approach from left\n",
    "    left_values = [target - 0.1, target - 0.01, target - 0.001]\n",
    "    print(f\"Approaching {target} from left:\")\n",
    "    for x in left_values:\n",
    "        try:\n",
    "            fx = f(x)\n",
    "            print(f\"  f({x:.4f}) = {fx:.6f}\")\n",
    "        except:\n",
    "            print(f\"  f({x:.4f}) = undefined\")\n",
    "    \n",
    "    # Approach from right\n",
    "    right_values = [target + 0.001, target + 0.01, target + 0.1]\n",
    "    print(f\"Approaching {target} from right:\")\n",
    "    for x in right_values:\n",
    "        try:\n",
    "            fx = f(x)\n",
    "            print(f\"  f({x:.4f}) = {fx:.6f}\")\n",
    "        except:\n",
    "            print(f\"  f({x:.4f}) = undefined\")"
   ]
  },
  {
   "cell_type": "markdown",
   "metadata": {},
   "source": [
    "### My solutions\n",
    "\n",
    "1. $3^3 - 4 = 9 - 4 = 5$\n",
    "2. $\\frac{1^3 -1}{1 -1}$ -> can't work, it's $\\frac{0}{0}$!\n",
    "3. $\\frac{0+2}{0^2 + 4} = \\frac{2}{4} = \\frac{1}{2}$\n",
    "4. $\\frac{0}{0}$ again, undefined\n",
    "5. you said it's a specicial case, but x->0 so it's probably undefined too?"
   ]
  },
  {
   "cell_type": "markdown",
   "metadata": {},
   "source": [
    "## Solutions and Feedback\n",
    "\n",
    "Let's review your solutions:"
   ]
  },
  {
   "cell_type": "code",
   "execution_count": null,
   "metadata": {},
   "outputs": [],
   "source": [
    "# Solution 1: lim_(x→3) (x^2 - 4)\n",
    "def solution1():\n",
    "    x = 3\n",
    "    return x**2 - 4\n",
    "\n",
    "result1 = solution1()\n",
    "print(f\"1. lim_(x→3) (x^2 - 4) = {result1}\")\n",
    "\n",
    "# Solution 2: lim_(x→1) (x^3 - 1)/(x - 1)\n",
    "# We can solve using algebra by factoring the numerator:\n",
    "# x^3 - 1 = (x-1)(x^2 + x + 1)\n",
    "def solution2():\n",
    "    x = 1\n",
    "    return x**2 + x + 1  # After cancellation\n",
    "\n",
    "result2 = solution2()\n",
    "print(f\"2. lim_(x→1) (x^3 - 1)/(x - 1) = {result2}\")\n",
    "\n",
    "# Solution 3: lim_(x→0) (x + 2)/(x^2 + 4)\n",
    "def solution3():\n",
    "    x = 0\n",
    "    return (x + 2)/(x**2 + 4)\n",
    "\n",
    "result3 = solution3()\n",
    "print(f\"3. lim_(x→0) (x + 2)/(x^2 + 4) = {result3}\")\n",
    "\n",
    "# Solution 4 requires analyzing from both sides\n",
    "print(\"4. lim_(x→2) |x - 2|/(x - 2)\")\n",
    "print(\"   From left (x < 2): -1\")\n",
    "print(\"   From right (x > 2): 1\")\n",
    "print(\"   Since these differ, the limit does not exist.\")\n",
    "\n",
    "# Solution 5: The special limit\n",
    "print(\"5. lim_(x→0) sin(x)/x = 1\")\n",
    "\n",
    "# Let's also visualize solution 4 which is especially interesting\n",
    "def f4_left(x):\n",
    "    # For x < 2\n",
    "    return -1 if x < 2 else None\n",
    "\n",
    "def f4_right(x):\n",
    "    # For x > 2\n",
    "    return 1 if x > 2 else None\n",
    "\n",
    "plt.figure(figsize=(10, 6))\n",
    "\n",
    "# Create x values\n",
    "x_left = np.linspace(1, 2-0.0001, 100)\n",
    "x_right = np.linspace(2+0.0001, 3, 100)\n",
    "\n",
    "# Plot the function\n",
    "plt.plot(x_left, f4_left(x_left), 'b-', label='Approaching from left')\n",
    "plt.plot(x_right, f4_right(x_right), 'r-', label='Approaching from right')\n",
    "\n",
    "# Add vertical line at x=2\n",
    "plt.axvline(x=2, color='gray', linestyle='--', alpha=0.7)\n",
    "\n",
    "plt.grid(True)\n",
    "plt.title(r'$\\lim_{x \\to 2} \\frac{|x-2|}{x-2}$ does not exist')\n",
    "plt.xlabel('x')\n",
    "plt.ylabel('f(x)')\n",
    "plt.ylim(-1.5, 1.5)\n",
    "plt.legend()\n",
    "plt.show()"
   ]
  },
  {
   "cell_type": "markdown",
   "metadata": {},
   "source": [
    "1. $\\lim_{x \\to 3} (x^2 - 4)$\n",
    "   You're on the right track, but there's a small error. It should be $3^2$ (3 squared), not $3^3$ (3 cubed).\n",
    "   Correct solution: $3^2 - 4 = 9 - 4 = 5$ ✓\n",
    "\n",
    "2. $\\lim_{x \\to 1} \\frac{x^3 - 1}{x - 1}$\n",
    "   You correctly identified that direct substitution gives $\\frac{0}{0}$!\n",
    "   To solve this indeterminate form, we can factor the numerator:\n",
    "   $x^3 - 1 = (x - 1)(x^2 + x + 1)$\n",
    "   So our limit becomes:\n",
    "   $\\lim_{x \\to 1} \\frac{(x - 1)(x^2 + x + 1)}{x - 1} = \\lim_{x \\to 1} (x^2 + x + 1) = 1^2 + 1 + 1 = 3$\n",
    "\n",
    "3. $\\lim_{x \\to 0} \\frac{x + 2}{x^2 + 4}$\n",
    "   Your setup is correct, but there's an error in the calculation.\n",
    "   Direct substitution gives: $\\frac{0 + 2}{0^2 + 4} = \\frac{2}{4} = \\frac{1}{2}$\n",
    "\n",
    "4. $\\lim_{x \\to 2} \\frac{|x - 2|}{x - 2}$\n",
    "   This is trickier! We need to evaluate from both sides:\n",
    "   - When x < 2: $|x - 2| = -(x - 2)$, so the expression equals -1\n",
    "   - When x > 2: $|x - 2| = (x - 2)$, so the expression equals 1\n",
    "   Since these values differ, the limit does not exist.\n",
    "\n",
    "5. $\\lim_{x \\to 0} \\frac{\\sin(x)}{x}$\n",
    "   You're right that direct substitution gives $\\frac{0}{0}$, but this is a special limit that equals 1.\n",
    "   We can verify by calculating values near x = 0:\n",
    "   - When x = 0.1, $\\frac{\\sin(0.1)}{0.1} \\approx 0.998$\n",
    "   - When x = 0.01, $\\frac{\\sin(0.01)}{0.01} \\approx 0.9998$\n",
    "   As x gets closer to 0, $\\frac{\\sin(x)}{x}$ gets closer to 1."
   ]
  },
  {
   "cell_type": "markdown",
   "metadata": {},
   "source": [
    "Great work tackling these limits! Let's move on to the next lesson.\n",
    "\n",
    "---\n",
    "\n",
    "This completes our introduction to limits. Next, we'll use limits to understand derivatives - the foundation of differential calculus."
   ]
  }
 ],
 "metadata": {
  "kernelspec": {
   "display_name": ".venv",
   "language": "python",
   "name": "python3"
  },
  "language_info": {
   "codemirror_mode": {
    "name": "ipython",
    "version": 3
   },
   "file_extension": ".py",
   "mimetype": "text/x-python",
   "name": "python",
   "nbconvert_exporter": "python",
   "pygments_lexer": "ipython3",
   "version": "3.13.2"
  }
 },
 "nbformat": 4,
 "nbformat_minor": 4
}