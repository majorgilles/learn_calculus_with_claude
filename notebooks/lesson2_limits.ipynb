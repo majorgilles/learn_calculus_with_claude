{
 "cells": [
  {
   "cell_type": "markdown",
   "metadata": {},
   "source": [
    "# Limits: The Foundation of Calculus\n",
    "\n",
    "Great work on understanding functions! Now we'll explore limits, which form the foundation of calculus.\n",
    "\n",
    "## What is a Limit?\n",
    "\n",
    "A limit describes the value a function approaches as the input approaches a particular value. We write:\n",
    "\n",
    "$$\\lim_{x \\to a} f(x) = L$$\n",
    "\n",
    "This means: \"as x gets closer and closer to a, the function f(x) gets closer and closer to L.\""
   ]
  },
  {
   "cell_type": "markdown",
   "metadata": {},
   "source": [
    "## Why Limits Matter\n",
    "\n",
    "Limits allow us to:\n",
    "- Define derivatives (which we'll explore soon)\n",
    "- Analyze function behavior at points where the function isn't defined\n",
    "- Understand continuity of functions"
   ]
  },
  {
   "cell_type": "markdown",
   "metadata": {},
   "source": [
    "## Understanding Limits Simply\n",
    "\n",
    "When we write $\\lim_{x \\to a} f(x) = L$, we're asking:\n",
    "\"What value does f(x) get very close to when x gets very close to a?\"\n",
    "\n",
    "### The Direct Substitution Method\n",
    "\n",
    "For most well-behaved functions, finding a limit is straightforward:\n",
    "1. Take the value that x is approaching (let's call it a)\n",
    "2. Plug this value directly into the function f(x)\n",
    "3. The result is your limit\n",
    "\n",
    "This works because many functions are \"continuous\" - which just means there are no sudden jumps, gaps, or breaks in their graphs."
   ]
  },
  {
   "cell_type": "markdown",
   "metadata": {},
   "source": [
    "### Example with Numbers\n",
    "\n",
    "Consider $f(x) = x^2$ and we want $\\lim_{x \\to 3} x^2$\n",
    "\n",
    "If we use direct substitution:\n",
    "- Plug in x = 3 into $x^2$\n",
    "- Get $3^2 = 9$\n",
    "- Therefore, $\\lim_{x \\to 3} x^2 = 9$\n",
    "\n",
    "You can verify this by calculating values very close to 3:\n",
    "- When x = 2.9, f(x) = 8.41\n",
    "- When x = 2.99, f(x) = 8.94\n",
    "- When x = 2.999, f(x) = 8.994\n",
    "- When x = 3.001, f(x) = 9.006\n",
    "- When x = 3.01, f(x) = 9.06\n",
    "- When x = 3.1, f(x) = 9.61\n",
    "\n",
    "Notice how the function values get closer and closer to 9 as x gets closer to 3."
   ]
  },
  {
   "cell_type": "markdown",
   "metadata": {},
   "source": [
    "### When Direct Substitution Doesn't Work\n",
    "\n",
    "Direct substitution doesn't work when:\n",
    "1. Plugging in the value gives $\\frac{0}{0}$, $\\frac{\\infty}{\\infty}$, or other undefined results\n",
    "2. The function has a discontinuity (jump or gap) at that point\n",
    "\n",
    "For these cases, we need other techniques like factoring, rationalizing, or approaching from both sides."
   ]
  },
  {
   "cell_type": "markdown",
   "metadata": {},
   "source": [
    "## More Examples of Limits\n",
    "\n",
    "1. $\\lim_{x \\to 2} x^2 = 4$\n",
    "   As x gets closer to 2, $x^2$ gets closer to 4.\n",
    "\n",
    "2. $\\lim_{x \\to 0} \\frac{\\sin x}{x} = 1$\n",
    "   This is a special limit we'll explore later."
   ]
  },
  {
   "cell_type": "markdown",
   "metadata": {},
   "source": [
    "## Exercise 2: Finding Limits\n",
    "\n",
    "For each function, find the limit (if it exists):\n",
    "\n",
    "1. $\\lim_{x \\to 3} (x^2 - 4)$\n",
    "2. $\\lim_{x \\to 1} \\frac{x^3 - 1}{x - 1}$\n",
    "3. $\\lim_{x \\to 0} \\frac{x + 2}{x^2 + 4}$\n",
    "4. $\\lim_{x \\to 2} \\frac{|x - 2|}{x - 2}$\n",
    "5. $\\lim_{x \\to 0} \\frac{\\sin(x)}{x}$\n",
    "\n",
    "For any challenging ones, try making a table of values as x approaches the target value from both sides."
   ]
  },
  {
   "cell_type": "markdown",
   "metadata": {},
   "source": [
    "### My solutions\n",
    "\n",
    "1. $3^3 - 4 = 9 - 4 = 5$\n",
    "2. $\\frac{1^3 -1}{1 -1}$ -> can't work, it's $\\frac{0}{0}$!\n",
    "3. $\\frac{0+2}{0^2 + 4} = \\frac{2}{4} = \\frac{1}{2}$\n",
    "4. $\\frac{0}{0}$ again, undefined\n",
    "5. you said it's a specicial case, but x->0 so it's probably undefined too?"
   ]
  },
  {
   "cell_type": "markdown",
   "metadata": {},
   "source": [
    "## Solutions and Feedback\n",
    "\n",
    "Let's review your solutions:\n",
    "\n",
    "1. $\\lim_{x \\to 3} (x^2 - 4)$\n",
    "   You're on the right track, but there's a small error. It should be $3^2$ (3 squared), not $3^3$ (3 cubed).\n",
    "   Correct solution: $3^2 - 4 = 9 - 4 = 5$ ✓\n",
    "\n",
    "2. $\\lim_{x \\to 1} \\frac{x^3 - 1}{x - 1}$\n",
    "   You correctly identified that direct substitution gives $\\frac{0}{0}$!\n",
    "   To solve this indeterminate form, we can factor the numerator:\n",
    "   $x^3 - 1 = (x - 1)(x^2 + x + 1)$\n",
    "   So our limit becomes:\n",
    "   $\\lim_{x \\to 1} \\frac{(x - 1)(x^2 + x + 1)}{x - 1} = \\lim_{x \\to 1} (x^2 + x + 1) = 1^2 + 1 + 1 = 3$\n",
    "\n",
    "3. $\\lim_{x \\to 0} \\frac{x + 2}{x^2 + 4}$\n",
    "   Your setup is correct, but there's an error in the calculation.\n",
    "   Direct substitution gives: $\\frac{0 + 2}{0^2 + 4} = \\frac{2}{4} = \\frac{1}{2}$\n",
    "\n",
    "4. $\\lim_{x \\to 2} \\frac{|x - 2|}{x - 2}$\n",
    "   This is trickier! We need to evaluate from both sides:\n",
    "   - When x < 2: $|x - 2| = -(x - 2)$, so the expression equals -1\n",
    "   - When x > 2: $|x - 2| = (x - 2)$, so the expression equals 1\n",
    "   Since these values differ, the limit does not exist.\n",
    "\n",
    "5. $\\lim_{x \\to 0} \\frac{\\sin(x)}{x}$\n",
    "   You're right that direct substitution gives $\\frac{0}{0}$, but this is a special limit that equals 1.\n",
    "   We can verify by calculating values near x = 0:\n",
    "   - When x = 0.1, $\\frac{\\sin(0.1)}{0.1} \\approx 0.998$\n",
    "   - When x = 0.01, $\\frac{\\sin(0.01)}{0.01} \\approx 0.9998$\n",
    "   As x gets closer to 0, $\\frac{\\sin(x)}{x}$ gets closer to 1."
   ]
  },
  {
   "cell_type": "markdown",
   "metadata": {},
   "source": [
    "Great work tackling these limits! Let's move on to the next lesson.\n",
    "\n",
    "---\n",
    "\n",
    "This completes our introduction to limits. Next, we'll use limits to understand derivatives - the foundation of differential calculus."
   ]
  }
 ],
 "metadata": {
  "kernelspec": {
   "display_name": "Python 3",
   "language": "python",
   "name": "python3"
  },
  "language_info": {
   "codemirror_mode": {
    "name": "ipython",
    "version": 3
   },
   "file_extension": ".py",
   "mimetype": "text/x-python",
   "name": "python",
   "nbconvert_exporter": "python",
   "pygments_lexer": "ipython3",
   "version": "3.8.8"
  }
 },
 "nbformat": 4,
 "nbformat_minor": 4
}