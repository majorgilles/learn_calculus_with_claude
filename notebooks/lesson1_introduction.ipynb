{
 "cells": [
  {
   "cell_type": "markdown",
   "metadata": {},
   "source": [
    "# Introduction to Calculus\n",
    "\n",
    "Welcome to your journey into calculus! This course is designed for beginners, and we'll build your understanding step by step."
   ]
  },
  {
   "cell_type": "markdown",
   "metadata": {},
   "source": []
  },
  {
   "cell_type": "markdown",
   "metadata": {},
   "source": [
    "## What is Calculus?\n",
    "\n",
    "Calculus is a branch of mathematics that studies continuous change. It has two main branches:\n",
    "\n",
    "- **Differential calculus**: focuses on rates of change and slopes of curves\n",
    "- **Integral calculus**: focuses on accumulation of quantities and areas under curves\n",
    "\n",
    "This course will start with differential calculus."
   ]
  },
  {
   "cell_type": "code",
   "execution_count": null,
   "metadata": {},
   "outputs": [
    {
     "ename": "",
     "evalue": "",
     "output_type": "error",
     "traceback": [
      "\u001b[1;31mRunning cells with '.venv (Python 3.12.3)' requires the ipykernel package.\n",
      "\u001b[1;31mRun the following command to install 'ipykernel' into the Python environment. \n",
      "\u001b[1;31mCommand: 'c:/dev/ai_experiments/learn_calculus_with_claude/.venv/Scripts/python.exe -m pip install ipykernel -U --force-reinstall'"
     ]
    }
   ],
   "source": [
    "# Let's import necessary libraries for our calculus journey\n",
    "import numpy as np\n",
    "import matplotlib.pyplot as plt\n",
    "\n",
    "# Set up better visualization\n",
    "%matplotlib inline\n",
    "plt.style.use('seaborn-whitegrid')"
   ]
  },
  {
   "cell_type": "markdown",
   "metadata": {},
   "source": [
    "## Why Learn Calculus?\n",
    "\n",
    "Calculus is essential for:\n",
    "\n",
    "- Physics and engineering\n",
    "- Economics and finance\n",
    "- Computer science (especially machine learning)\n",
    "- Understanding natural phenomena"
   ]
  },
  {
   "cell_type": "markdown",
   "metadata": {},
   "source": [
    "## Understanding the Concept of a Function\n",
    "\n",
    "Before diving into calculus, let's review functions.\n",
    "\n",
    "A function relates an input to exactly one output. We often write functions in the form $f(x) = [\\text{some expression with } x]$."
   ]
  },
  {
   "cell_type": "code",
   "execution_count": null,
   "metadata": {},
   "outputs": [],
   "source": [
    "# Let's define and visualize some basic functions\n",
    "\n",
    "# Function 1: f(x) = x²\n",
    "def f1(x):\n",
    "    return x**2\n",
    "\n",
    "# Function 2: g(x) = √x\n",
    "def f2(x):\n",
    "    return np.sqrt(x)\n",
    "\n",
    "# Function 3: h(x) = 1/x\n",
    "def f3(x):\n",
    "    return 1/x\n",
    "\n",
    "# Create x values\n",
    "x = np.linspace(0.1, 5, 1000)  # Avoiding x=0 for the last function\n",
    "\n",
    "# Create a figure with 3 subplots\n",
    "fig, axs = plt.subplots(1, 3, figsize=(15, 4))\n",
    "\n",
    "# Plot the functions\n",
    "axs[0].plot(x, f1(x))\n",
    "axs[0].set_title('$f(x) = x^2$')\n",
    "axs[0].grid(True)\n",
    "\n",
    "axs[1].plot(x, f2(x))\n",
    "axs[1].set_title('$g(x) = \\sqrt{x}$')\n",
    "axs[1].grid(True)\n",
    "\n",
    "axs[2].plot(x, f3(x))\n",
    "axs[2].set_title('$h(x) = 1/x$')\n",
    "axs[2].grid(True)\n",
    "\n",
    "plt.tight_layout()\n",
    "plt.show()"
   ]
  },
  {
   "cell_type": "code",
   "execution_count": null,
   "metadata": {},
   "outputs": [],
   "source": [
    "# Celsius to Fahrenheit conversion (another example of a function)\n",
    "def celsius_to_fahrenheit(c):\n",
    "    return c * 9/5 + 32\n",
    "\n",
    "# Let's test with some values\n",
    "celsius_values = [0, 10, 20, 30, 40, 100]\n",
    "print(\"Celsius\\tFahrenheit\")\n",
    "print(\"-------------------\")\n",
    "for c in celsius_values:\n",
    "    f = celsius_to_fahrenheit(c)\n",
    "    print(f\"{c}°C\\t{f}°F\")\n",
    "\n",
    "# Plot Celsius to Fahrenheit conversion\n",
    "c_range = np.linspace(-20, 100, 500)\n",
    "f_range = celsius_to_fahrenheit(c_range)\n",
    "\n",
    "plt.figure(figsize=(10, 6))\n",
    "plt.plot(c_range, f_range)\n",
    "plt.title('Celsius to Fahrenheit Conversion Function')\n",
    "plt.xlabel('Celsius (°C)')\n",
    "plt.ylabel('Fahrenheit (°F)')\n",
    "plt.grid(True)\n",
    "plt.axhline(y=32, color='r', linestyle='--')  # Freezing point in Fahrenheit\n",
    "plt.axvline(x=0, color='r', linestyle='--')   # Freezing point in Celsius\n",
    "plt.show()"
   ]
  },
  {
   "cell_type": "markdown",
   "metadata": {},
   "source": [
    "## Exercise 1: Understanding the Concept of a Function\n",
    "\n",
    "**Task**: For each of the following, determine if it's a valid function and explain why:\n",
    "\n",
    "1. $f(x) = x^2$\n",
    "2. $g(x) = \\sqrt{x}$\n",
    "3. $h(x) = 1/x$\n",
    "4. The relationship between a person's name and their age\n",
    "5. The relationship between a temperature in Celsius and Fahrenheit"
   ]
  },
  {
   "cell_type": "code",
   "execution_count": null,
   "metadata": {},
   "outputs": [],
   "source": [
    "# Let's test valid domains for some of these functions\n",
    "\n",
    "# For function 2: g(x) = √x\n",
    "# Let's try with a negative number\n",
    "try:\n",
    "    result = np.sqrt(-4)\n",
    "    print(f\"√(-4) = {result}\")\n",
    "except Exception as e:\n",
    "    print(f\"Error with √(-4): {e}\")\n",
    "    \n",
    "# What about complex numbers?\n",
    "result = np.sqrt(-4 + 0j)  # Adding 0j makes it a complex number\n",
    "print(f\"√(-4) in complex domain = {result}\")\n",
    "\n",
    "# For function 3: h(x) = 1/x\n",
    "# Let's try with x = 0\n",
    "try:\n",
    "    result = 1/0\n",
    "    print(f\"1/0 = {result}\")\n",
    "except Exception as e:\n",
    "    print(f\"Error with 1/0: {e}\")"
   ]
  },
  {
   "cell_type": "markdown",
   "metadata": {},
   "source": [
    "Please write your answers below, explaining your reasoning for each:"
   ]
  },
  {
   "cell_type": "markdown",
   "metadata": {},
   "source": [
    "1. yes valid, x to the power of 2\n",
    "2. valid, square root of x\n",
    "3. valid, we divide 1 / x but careful, x shouldn't be 0\n",
    "4. I'm don't think there's a way to map one to the other, no relationship, therefore no valid function.\n",
    "5. valid, given a temp in celcius, we can calculate it in fahrenheit, so there' s a clear function there"
   ]
  },
  {
   "cell_type": "markdown",
   "metadata": {},
   "source": [
    "After completing this exercise, we'll assess your understanding and move to the next lesson"
   ]
  }
 ],
 "metadata": {
  "kernelspec": {
   "display_name": ".venv",
   "language": "python",
   "name": "python3"
  },
  "language_info": {
   "codemirror_mode": {
    "name": "ipython",
    "version": 3
   },
   "file_extension": ".py",
   "mimetype": "text/x-python",
   "name": "python",
   "nbconvert_exporter": "python",
   "pygments_lexer": "ipython3",
   "version": "3.13.2"
  }
 },
 "nbformat": 4,
 "nbformat_minor": 4
}
