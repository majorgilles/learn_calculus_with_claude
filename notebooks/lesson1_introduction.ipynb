{
 "cells": [
  {
   "cell_type": "markdown",
   "metadata": {},
   "source": [
    "# Introduction to Calculus\n",
    "\n",
    "Welcome to your journey into calculus! This course is designed for beginners, and we'll build your understanding step by step.\n",
    "\n",
    "## What is Calculus?\n",
    "\n",
    "Calculus is a branch of mathematics that studies continuous change. It has two main branches:\n",
    "\n",
    "- **Differential calculus**: focuses on rates of change and slopes of curves\n",
    "- **Integral calculus**: focuses on accumulation of quantities and areas under curves\n",
    "\n",
    "This course will start with differential calculus."
   ]
  },
  {
   "cell_type": "markdown",
   "metadata": {},
   "source": [
    "## Why Learn Calculus?\n",
    "\n",
    "Calculus is essential for:\n",
    "\n",
    "- Physics and engineering\n",
    "- Economics and finance\n",
    "- Computer science (especially machine learning)\n",
    "- Understanding natural phenomena"
   ]
  },
  {
   "cell_type": "markdown",
   "metadata": {},
   "source": [
    "## Exercise 1: Understanding the Concept of a Function\n",
    "\n",
    "Before diving into calculus, let's review functions.\n",
    "\n",
    "A function relates an input to exactly one output. We often write functions in the form $f(x) = [\\text{some expression with } x]$.\n",
    "\n",
    "**Task**: For each of the following, determine if it's a valid function and explain why:\n",
    "\n",
    "1. $f(x) = x^2$\n",
    "2. $g(x) = \\sqrt{x}$\n",
    "3. $h(x) = 1/x$\n",
    "4. The relationship between a person's name and their age\n",
    "5. The relationship between a temperature in Celsius and Fahrenheit"
   ]
  },
  {
   "cell_type": "markdown",
   "metadata": {},
   "source": [
    "Please write your answers below, explaining your reasoning for each:"
   ]
  },
  {
   "cell_type": "markdown",
   "metadata": {},
   "source": [
    "1. yes valid, x to the power of 2\n",
    "2. valid, square root of x\n",
    "3. valid, we divide 1 / x but careful, x shouldn't be 0\n",
    "4. I'm don't think there's a way to map one to the other, no relationship, therefore no valid function.\n",
    "5. valid, given a temp in celcius, we can calculate it in fahrenheit, so there' s a clear function there"
   ]
  },
  {
   "cell_type": "markdown",
   "metadata": {},
   "source": [
    "After completing this exercise, we'll assess your understanding and move to the next lesson"
   ]
  }
 ],
 "metadata": {
  "kernelspec": {
   "display_name": "Python 3",
   "language": "python",
   "name": "python3"
  },
  "language_info": {
   "codemirror_mode": {
    "name": "ipython",
    "version": 3
   },
   "file_extension": ".py",
   "mimetype": "text/x-python",
   "name": "python",
   "nbconvert_exporter": "python",
   "pygments_lexer": "ipython3",
   "version": "3.8.8"
  }
 },
 "nbformat": 4,
 "nbformat_minor": 4
}