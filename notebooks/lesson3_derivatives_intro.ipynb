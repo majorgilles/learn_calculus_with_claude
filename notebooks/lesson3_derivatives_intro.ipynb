{
 "cells": [
  {
   "cell_type": "markdown",
   "metadata": {},
   "source": [
    "# Introduction to Derivatives: A Beginner's Guide\n",
    "\n",
    "Excellent work with limits! Now we'll use what you've learned to understand derivatives - the heart of differential calculus."
   ]
  },
  {
   "cell_type": "markdown",
   "metadata": {},
   "source": [
    "## What is a Derivative? (In Simple Terms)\n",
    "\n",
    "Think of a derivative as the \"speedometer\" of a function. Just like a car's speedometer tells you how fast you're going at each moment, a derivative tells you how quickly a function's values are changing at each point.\n",
    "\n",
    "In everyday terms:\n",
    "\n",
    "- If you're walking uphill, the steepness of the hill at each point is like the derivative\n",
    "- If you're tracking temperature throughout the day, the rate at which it's warming or cooling at each moment is the derivative\n",
    "- If you're watching a car move, its speed at each moment is the derivative of its position"
   ]
  },
  {
   "cell_type": "markdown",
   "metadata": {},
   "source": [
    "## Real-World Meaning of Derivatives\n",
    "\n",
    "The derivative measures:\n",
    "\n",
    "- Rate of change\n",
    "- Steepness at a point\n",
    "- How sensitive one value is to changes in another"
   ]
  },
  {
   "cell_type": "markdown",
   "metadata": {},
   "source": [
    "## The Two Common Notations\n",
    "\n",
    "The derivative of a function f(x) is written as:\n",
    "\n",
    "- $f'(x)$ (read as \"f prime of x\")\n",
    "- $\\frac{df}{dx}$ (read as \"d f d x\")\n",
    "\n",
    "Both mean the same thing: the rate at which f(x) changes as x changes."
   ]
  },
  {
   "cell_type": "markdown",
   "metadata": {},
   "source": [
    "## The Formal Definition Made Simpler\n",
    "\n",
    "The formal definition uses limits:\n",
    "\n",
    "$$f'(x) = \\lim_{h \\to 0} \\frac{f(x+h) - f(x)}{h}$$\n",
    "\n",
    "What this really means:\n",
    "\n",
    "1. Take a point x on your function\n",
    "2. Take another point a tiny step (h) away: (x+h)\n",
    "3. Calculate the steepness between these points: $\\frac{f(x+h) - f(x)}{h}$\n",
    "4. Make h smaller and smaller, approaching zero\n",
    "5. The final steepness you get (as h gets infinitely small) is the derivative"
   ]
  },
  {
   "cell_type": "markdown",
   "metadata": {},
   "source": [
    "## A Concrete Example Without Math Notation\n",
    "\n",
    "Imagine tracking temperature throughout the day:\n",
    "\n",
    "- At 1:00 PM: 70°F\n",
    "- At 1:10 PM: 71°F\n",
    "\n",
    "To find the rate of change:\n",
    "\n",
    "- Temperature change: 71 - 70 = 1°F\n",
    "- Time change: 10 minutes\n",
    "- Rate of change: 1°F ÷ 10 minutes = 0.1°F per minute\n",
    "\n",
    "This gives the average rate over 10 minutes. For the instantaneous rate at exactly 1:00 PM, we'd make the time interval smaller and smaller:\n",
    "\n",
    "- Check temperature at 1:01 PM (1 minute later)\n",
    "- Then at 1:00:10 PM (10 seconds later)\n",
    "- Then at 1:00:01 PM (1 second later)\n",
    "\n",
    "As this time gap approaches zero, we get the instantaneous rate at exactly 1:00 PM."
   ]
  },
  {
   "cell_type": "markdown",
   "metadata": {},
   "source": [
    "## Visual Understanding with a Picture\n",
    "\n",
    "Imagine you have a curved line (a function). If you zoom in closer and closer to a single point on that curve, eventually it starts to look like a straight line. The steepness of that straight line is the derivative at that point.\n",
    "\n",
    "![Derivative as tangent line](https://upload.wikimedia.org/wikipedia/commons/thumb/0/0f/Tangent_to_a_curve.svg/400px-Tangent_to_a_curve.svg.png)"
   ]
  },
  {
   "cell_type": "markdown",
   "metadata": {},
   "source": [
    "## What Derivative Values Tell You\n",
    "\n",
    "- **Positive derivative $(f'(x) > 0)$**: Function is increasing (going up)\n",
    "- **Negative derivative $(f'(x) < 0)$**: Function is decreasing (going down)\n",
    "- **Zero derivative $(f'(x) = 0)$**: Function is flat at that point (not increasing or decreasing)\n",
    "- **Larger derivative value**: Function is changing more rapidly"
   ]
  },
  {
   "cell_type": "markdown",
   "metadata": {},
   "source": [
    "## Step-by-Step Example: Finding a Derivative\n",
    "\n",
    "Let's find the derivative of $f(x) = x^2$ using the definition:\n",
    "\n",
    "1. Start with the definition:\n",
    "   $f'(x) = \\lim_{h \\to 0} \\frac{f(x+h) - f(x)}{h}$\n",
    "\n",
    "2. Replace $f(x)$ with $x^2$ and $f(x+h)$ with $(x+h)^2$:\n",
    "   $f'(x) = \\lim_{h \\to 0} \\frac{(x+h)^2 - x^2}{h}$\n",
    "\n",
    "3. Expand $(x+h)^2$:\n",
    "   $f'(x) = \\lim_{h \\to 0} \\frac{x^2 + 2xh + h^2 - x^2}{h}$\n",
    "\n",
    "4. Cancel out $x^2$ terms:\n",
    "   $f'(x) = \\lim_{h \\to 0} \\frac{2xh + h^2}{h}$\n",
    "\n",
    "5. Factor out h:\n",
    "   $f'(x) = \\lim_{h \\to 0} \\frac{h(2x + h)}{h}$\n",
    "\n",
    "6. Cancel h (note: we can do this because h≠0 before we take the limit):\n",
    "   $f'(x) = \\lim_{h \\to 0} (2x + h)$\n",
    "\n",
    "7. Apply the limit (as h approaches 0):\n",
    "   $f'(x) = 2x$\n",
    "\n",
    "So the derivative of $x^2$ is $2x$!"
   ]
  },
  {
   "cell_type": "markdown",
   "metadata": {},
   "source": [
    "## Another Simple Example\n",
    "\n",
    "For $f(x) = 3x$, let's find $f'(x)$:\n",
    "\n",
    "1. Apply the definition:\n",
    "   $f'(x) = \\lim_{h \\to 0} \\frac{(3(x+h)) - 3x}{h}$\n",
    "\n",
    "2. Simplify:\n",
    "   $f'(x) = \\lim_{h \\to 0} \\frac{3x + 3h - 3x}{h}$\n",
    "\n",
    "3. Cancel terms:\n",
    "   $f'(x) = \\lim_{h \\to 0} \\frac{3h}{h}$\n",
    "\n",
    "4. Simplify:\n",
    "   $f'(x) = \\lim_{h \\to 0} (3) = 3$\n",
    "\n",
    "So the derivative of $3x$ is just $3$!"
   ]
  },
  {
   "cell_type": "markdown",
   "metadata": {},
   "source": [
    "## Velocity: A Real-World Application\n",
    "\n",
    "If $s(t)$ represents an object's position at time t:\n",
    "\n",
    "- $s(t)$ is the position function\n",
    "- $s'(t)$ is the velocity function (the derivative of position)\n",
    "\n",
    "For example, if a car's position is $s(t) = t^2$, then its velocity is $s'(t) = 2t$.\n",
    "\n",
    "- At t=1 second, velocity = 2(1) = 2 meters/second\n",
    "- At t=5 seconds, velocity = 2(5) = 10 meters/second"
   ]
  },
  {
   "cell_type": "markdown",
   "metadata": {},
   "source": [
    "## Exercise 3: Exploring Derivatives\n",
    "\n",
    "1. Using the definition of the derivative as a limit, find the derivative of $f(x) = 3x + 1$.\n",
    "   (Hint: Follow the step-by-step approach we used above)\n",
    "\n",
    "2. For the function $g(x) = x^2$, calculate:\n",
    "   a) $g'(2)$ (We already know $g'(x) = 2x$, so calculate the value when x=2)\n",
    "   b) What does this value tell you about the function at x = 2?\n",
    "\n",
    "3. The position of a moving object is given by $s(t) = t^2 - 4t + 5$, where t is time in seconds.\n",
    "   a) Find the velocity function $v(t)$ (remember, velocity is the derivative of position)\n",
    "   b) Find the velocity at t = 3\n",
    "   c) Is the object moving forward or backward at t = 1? (Hint: forward means positive velocity)\n",
    "\n",
    "4. For each of these cases, determine if the derivative would be positive, negative, or zero:\n",
    "   a) A function at a point where it's increasing\n",
    "   b) A function at its maximum value\n",
    "   c) A function at a point where it's decreasing\n",
    "   d) A linear function with negative slope"
   ]
  },
  {
   "cell_type": "markdown",
   "metadata": {},
   "source": [
    "---\n",
    "\n",
    "After completing these problems, we'll move on to derivative rules that will make calculations much easier!"
   ]
  }
 ],
 "metadata": {
  "kernelspec": {
   "display_name": "Python 3",
   "language": "python",
   "name": "python3"
  },
  "language_info": {
   "codemirror_mode": {
    "name": "ipython",
    "version": 3
   },
   "file_extension": ".py",
   "mimetype": "text/x-python",
   "name": "python",
   "nbconvert_exporter": "python",
   "pygments_lexer": "ipython3",
   "version": "3.8.8"
  }
 },
 "nbformat": 4,
 "nbformat_minor": 4
}